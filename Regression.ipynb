{
 "cells": [
  {
   "cell_type": "code",
   "execution_count": null,
   "metadata": {},
   "outputs": [],
   "source": [
    "import pandas as pd\n",
    "from sklearn.linear_model import LinearRegression, Ridge, Lasso, LogisticRegressionCV\n",
    "from sklearn.model_selection import train_test_split\n",
    "from sklearn.tree import DecisionTreeRegressor\n",
    "\n",
    "train_path = \"/Users/mqa/Desktop/Dev/ML/Data sets/superconduct/train.csv\"\n",
    "\n",
    "X  = pd.read_csv(train_path)\n",
    "\n",
    "y = X[\"critical_temp\"]\n",
    "\n",
    "X = X.drop([\"critical_temp\"] , axis =1)\n",
    "\n",
    "X_train, X_test, y_train, y_test = train_test_split(X, y, test_size = 0.2)\n",
    "\n",
    "\n",
    "lr = LinearRegression(normalize= True).fit(X_train, y_train)\n",
    "\n",
    "ridge = Ridge().fit(X_train, y_train)\n",
    "\n",
    "lasso = Lasso(alpha=35).fit(X_train, y_train)\n",
    "\n",
    "tree_reg= DecisionTreeRegressor().fit(X_train, y_train)\n",
    "\n",
    "print(\"The score of LR:{:.2f}\\n\".format(lr.score(X_test, y_test)))\n",
    "\n",
    "print(\"The score of ridge:{:.2f}\\n\".format(ridge.score(X_test, y_test)))\n",
    "\n",
    "print(\"The score of lasso:{:.2f}\".format(lasso.score(X_test, y_test)))\n",
    "\n",
    "print(\"The score of DecisionTreeRegressor:{:.2f}\".format(tree_reg.score(X_test, y_test)))\n",
    "\n",
    "import graphviz\n",
    "from sklearn.tree import export_graphviz\n",
    "\n",
    "\n",
    "export_graphviz(tree_reg, out_file=\"tree.dot\")\n",
    "\n",
    "\n",
    "with open(\"tree.dot\") as f:\n",
    "    dot_grapgh = f.read()\n",
    "display(graphviz.Source(dot_grapgh))\n"
   ]
  },
  {
   "cell_type": "code",
   "execution_count": null,
   "metadata": {},
   "outputs": [],
   "source": [
    "print(\"Hi\")"
   ]
  },
  {
   "cell_type": "code",
   "execution_count": null,
   "metadata": {},
   "outputs": [],
   "source": []
  },
  {
   "cell_type": "code",
   "execution_count": null,
   "metadata": {},
   "outputs": [],
   "source": []
  }
 ],
 "metadata": {
  "kernelspec": {
   "display_name": "Python 3",
   "language": "python",
   "name": "python3"
  }
 },
 "nbformat": 4,
 "nbformat_minor": 2
}
